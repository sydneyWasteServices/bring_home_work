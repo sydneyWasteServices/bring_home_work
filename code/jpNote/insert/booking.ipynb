{
 "cells": [
  {
   "cell_type": "code",
   "execution_count": 34,
   "id": "c60ca51c",
   "metadata": {},
   "outputs": [],
   "source": [
    "import pandas as pd\n",
    "import numpy as np\n",
    "import pyodbc"
   ]
  },
  {
   "cell_type": "code",
   "execution_count": 41,
   "id": "74462a17",
   "metadata": {},
   "outputs": [],
   "source": [
    "PATH = 'C:\\\\Users\\\\User\\\\Desktop\\\\blob_storage\\\\booking\\\\BOOKING_ALL.csv'\n",
    "df = pd.read_csv(PATH, dtype={\n",
    "  \"Job No\" : float,\n",
    "  \"Schd Time End\" : str, \n",
    "  \"Schd Time Start\": str, \n",
    "  \"Customer Name\" : str,\n",
    "  \"Site Name\" : str,\n",
    "  \"Address 1\" : str,\n",
    "  \"Address 1\" : str,\n",
    "  \"City\" : str,\n",
    "  \"State\" : str,\n",
    "  \"Zone\" : str,\n",
    "  \"Phone\" : str,\n",
    "  \"Serv Type\" : str,   \n",
    "  \"Container Type\" : str,\n",
    "  \"Status\" : str,\n",
    "  \"Truck number\" : str,\n",
    "  \"Route number\" : str,\n",
    "  \"Initial Entry Date\" : str,\n",
    "  \"Prorated Weight\" : float,\n",
    "  \"Booking Reference 1\" : str,\n",
    " \"Booking Reference 2\" : str,\n",
    "  \"Alternate Ref No 1\" : str,\n",
    " \"Alternate Ref No 2\" : str,\n",
    " \"Alternate Service Ref 1\" : str,\n",
    " \"Alternate Service Ref 2\" : str,\n",
    " \"Directions\" : str,\n",
    " \"Waste Type\" : str,\n",
    " \"Price\" : float,\n",
    "  \"PO\": str, \n",
    "  \"Notes\": str, \n",
    "  \"Tip Site\": str})\n",
    "df = df.fillna(value=0)\n",
    "df.Date = pd.to_datetime(df.Date, format=\"%Y-%m-%d\")"
   ]
  },
  {
   "cell_type": "code",
   "execution_count": 42,
   "id": "11279b90",
   "metadata": {},
   "outputs": [],
   "source": [
    "df.Date = df.Date.dt.date\n",
    "df.Date = pd.to_datetime(df.Date, format=\"%Y-%m-%d\")"
   ]
  },
  {
   "cell_type": "code",
   "execution_count": null,
   "id": "6f7e4618",
   "metadata": {},
   "outputs": [],
   "source": []
  },
  {
   "cell_type": "code",
   "execution_count": 24,
   "id": "57c51396",
   "metadata": {},
   "outputs": [
    {
     "data": {
      "text/plain": [
       "dtype('<M8[ns]')"
      ]
     },
     "execution_count": 24,
     "metadata": {},
     "output_type": "execute_result"
    }
   ],
   "source": [
    "server = 'localhost' \n",
    "database = 'STAGE_1_DB'\n",
    "\n",
    "username = 'SA' \n",
    "password = 'Sydwaste123#'\n",
    "\n",
    "cnxn = pyodbc.connect('DRIVER={SQL Server};SERVER='+server+';DATABASE='+database+';UID='+username+';PWD='+ password)\n",
    "cursor = cnxn.cursor()\n",
    "# Insert Dataframe into SQL Server:\n",
    "# 38\n",
    "for index, row in df.iterrows():\n",
    "    cursor.execute(\"INSERT INTO STAGE_1_DB.BOOKING_SCH_1.BOOKING_TB_1 \\\n",
    "    (Job_No,Date,Schd_Time_Start,Schd_Time_End,Lat,Lng,\\\n",
    "    Customer_Number,Customer_Name,Site_Name,Address_1,\\\n",
    "    Address_2,City,State,PostCode,Zone,Phone,Qty_Scheduled,\\\n",
    "    Qty_Serviced,Serv_Type,Container_type,Bin_Volume,Status,\\\n",
    "    Truck_Number,Route_Number,Initial_Entry_Date,Weight,\\\n",
    "    Prorated_Weight_Kg,Booking_Reference_1,Booking_Reference_2,\\\n",
    "    Alternate_Ref_No_1,Alternate_Ref_No_2,Alternate_Service_Ref_1,\\\n",
    "    Alternate_Service_Ref_2,Notes,Directions,Waste_Type,Price,PO,Branch,Phone_2) \\\n",
    "    values(?,?,?,?,?,?,?,?,?,?,?,?,?,?,?,?,?,?,?,?,?,?,?,?,?,?,?,?,?,?,?,?,?,?,?,?,?,?,?,?)\", \n",
    "                    row[\"Job No\"],\n",
    "                    row.Date,\n",
    "                    row[\"Schd Time Start\"],\n",
    "                    row[\"Schd Time End\"],\n",
    "                    row[\"Latitude\"],\n",
    "                    row[\"Longitude\"],\n",
    "                    row[\"Customer number\"],\n",
    "                    row[\"Customer Name\"],\n",
    "                    row[\"Site Name\"],\n",
    "                    row[\"Address 1\"],\n",
    "                    row[\"Address 2\"],\n",
    "                    row[\"City\"],\n",
    "                    row[\"State\"],\n",
    "                    row.PostCode,\n",
    "                    row.Zone,\n",
    "                    row.Phone,\n",
    "                    row[\"Qty Scheduled\"],\n",
    "                    row[\"Qty Serviced\"],\n",
    "                    row[\"Serv Type\"],\n",
    "                    row[\"Container Type\"],\n",
    "                    row[\"Bin Volume\"],\n",
    "                    row.Status,\n",
    "                    row[\"Truck number\"],\n",
    "                    row[\"Route number\"],\n",
    "                    row[\"Initial Entry Date\"],\n",
    "                    row.Weight,\n",
    "                    row[\"Prorated Weight\"],\n",
    "                    row[\"Booking Reference 1\"],\n",
    "                    row[\"Booking Reference 2\"],\n",
    "                    row[\"Alternate Ref No 1\"],\n",
    "                    row[\"Alternate Ref No 2\"],\n",
    "                    row[\"Alternate Service Ref 1\"],\n",
    "                    row[\"Alternate Service Ref 2\"],\n",
    "                    row[\"Notes\"],\n",
    "                    row[\"Directions\"],\n",
    "                    row[\"Waste Type\"],\n",
    "                    row[\"Price\"],\n",
    "                    row.PO,\n",
    "                   \"\",\"\")  \n",
    "cnxn.commit()\n",
    "cursor.close()"
   ]
  },
  {
   "cell_type": "code",
   "execution_count": 43,
   "id": "0feb9be0",
   "metadata": {},
   "outputs": [
    {
     "name": "stdout",
     "output_type": "stream",
     "text": [
      "<class 'pandas.core.frame.DataFrame'>\n",
      "RangeIndex: 2424343 entries, 0 to 2424342\n",
      "Data columns (total 43 columns):\n",
      " #   Column                   Dtype         \n",
      "---  ------                   -----         \n",
      " 0   index                    int64         \n",
      " 1   Job No                   float64       \n",
      " 2   Date                     datetime64[ns]\n",
      " 3   Schd Time Start          object        \n",
      " 4   Schd Time End            object        \n",
      " 5   Latitude                 float64       \n",
      " 6   Longitude                float64       \n",
      " 7   Customer number          float64       \n",
      " 8   Customer Name            object        \n",
      " 9   Site Name                object        \n",
      " 10  Address 1                object        \n",
      " 11  Address 2                object        \n",
      " 12  City                     object        \n",
      " 13  State                    object        \n",
      " 14  PostCode                 float64       \n",
      " 15  Zone                     int64         \n",
      " 16  Phone                    object        \n",
      " 17  Qty Scheduled            int64         \n",
      " 18  Qty Serviced             int64         \n",
      " 19  Serv Type                object        \n",
      " 20  Container Type           object        \n",
      " 21  Bin Volume               float64       \n",
      " 22  Status                   object        \n",
      " 23  Truck number             object        \n",
      " 24  Route number             object        \n",
      " 25  Generate ID              object        \n",
      " 26  Initial Entry Date       object        \n",
      " 27  Weight                   float64       \n",
      " 28  Prorated Weight          float64       \n",
      " 29  Booking Reference 1      int64         \n",
      " 30  Booking Reference 2      int64         \n",
      " 31  Alternate Ref No 1       int64         \n",
      " 32  Alternate Ref No 2       int64         \n",
      " 33  Alternate Service Ref 1  object        \n",
      " 34  Alternate Service Ref 2  int64         \n",
      " 35  Notes                    object        \n",
      " 36  Directions               object        \n",
      " 37  CheckLists               float64       \n",
      " 38  Waste Type               object        \n",
      " 39  Tip Site                 object        \n",
      " 40  Price                    float64       \n",
      " 41  PO                       object        \n",
      " 42  Weekday                  float64       \n",
      "dtypes: datetime64[ns](1), float64(11), int64(9), object(22)\n",
      "memory usage: 795.3+ MB\n"
     ]
    }
   ],
   "source": [
    "df.info()"
   ]
  },
  {
   "cell_type": "code",
   "execution_count": null,
   "id": "66899ab1",
   "metadata": {},
   "outputs": [],
   "source": []
  },
  {
   "cell_type": "code",
   "execution_count": null,
   "id": "850583e6",
   "metadata": {},
   "outputs": [],
   "source": []
  },
  {
   "cell_type": "code",
   "execution_count": null,
   "id": "dad0105c",
   "metadata": {},
   "outputs": [],
   "source": []
  },
  {
   "cell_type": "code",
   "execution_count": null,
   "id": "75c1994b",
   "metadata": {},
   "outputs": [],
   "source": []
  }
 ],
 "metadata": {
  "kernelspec": {
   "display_name": "Python 3",
   "language": "python",
   "name": "python3"
  },
  "language_info": {
   "codemirror_mode": {
    "name": "ipython",
    "version": 3
   },
   "file_extension": ".py",
   "mimetype": "text/x-python",
   "name": "python",
   "nbconvert_exporter": "python",
   "pygments_lexer": "ipython3",
   "version": "3.8.8"
  }
 },
 "nbformat": 4,
 "nbformat_minor": 5
}
